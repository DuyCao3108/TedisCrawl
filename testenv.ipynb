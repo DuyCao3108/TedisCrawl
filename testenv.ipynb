{
 "cells": [
  {
   "cell_type": "code",
   "execution_count": 1,
   "metadata": {},
   "outputs": [
    {
     "data": {
      "text/plain": [
       "['nhathuoclongchau']"
      ]
     },
     "execution_count": 1,
     "metadata": {},
     "output_type": "execute_result"
    }
   ],
   "source": [
    "WEBSITE_TO_CRAWL = [\"vinmec\",\"nhathuoclongchau\", \"hellobacsi\"]\n",
    "single_value_list = list(filter(lambda x: x == \"nhathuoclongchau\", WEBSITE_TO_CRAWL))\n",
    "single_value_list"
   ]
  },
  {
   "cell_type": "code",
   "execution_count": 6,
   "metadata": {},
   "outputs": [
    {
     "data": {
      "text/plain": [
       "'hello/s=vitamin+c+cong+dung'"
      ]
     },
     "execution_count": 6,
     "metadata": {},
     "output_type": "execute_result"
    }
   ],
   "source": [
    "keyword = \"vitamin c cong dung\"\n",
    "keyword_splited = keyword.split(\" \")\n",
    "\n",
    "base_url = \"hello/s=\"\n",
    "base_url += keyword_splited[0]\n",
    "\n",
    "if len(keyword_splited) <= 1: base_url \n",
    "else:\n",
    "    for character in keyword_splited[1:]:\n",
    "        base_url += f\"+{character}\"\n",
    "\n",
    "base_url"
   ]
  },
  {
   "cell_type": "code",
   "execution_count": 5,
   "metadata": {},
   "outputs": [
    {
     "data": {
      "text/plain": [
       "['c', 'cong', 'dung']"
      ]
     },
     "execution_count": 5,
     "metadata": {},
     "output_type": "execute_result"
    }
   ],
   "source": [
    "keyword = \"vitamin c cong dung\"\n",
    "keyword_splited = keyword.split(\" \")\n",
    "keyword_splited[1:]"
   ]
  }
 ],
 "metadata": {
  "kernelspec": {
   "display_name": "Python 3",
   "language": "python",
   "name": "python3"
  },
  "language_info": {
   "codemirror_mode": {
    "name": "ipython",
    "version": 3
   },
   "file_extension": ".py",
   "mimetype": "text/x-python",
   "name": "python",
   "nbconvert_exporter": "python",
   "pygments_lexer": "ipython3",
   "version": "3.12.2"
  }
 },
 "nbformat": 4,
 "nbformat_minor": 2
}
