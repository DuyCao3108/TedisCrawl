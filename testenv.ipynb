{
 "cells": [
  {
   "cell_type": "code",
   "execution_count": null,
   "metadata": {},
   "outputs": [],
   "source": [
    "WEBSITE_TO_CRAWL = [\"vinmec\",\"nhathuoclongchau\", \"hellobacsi\"]\n",
    "single_value_list = list(filter(lambda x: x == \"nhathuoclongchau\", WEBSITE_TO_CRAWL))\n",
    "single_value_list"
   ]
  },
  {
   "cell_type": "code",
   "execution_count": null,
   "metadata": {},
   "outputs": [],
   "source": [
    "keyword = \"vitamin c cong dung\"\n",
    "keyword_splited = keyword.split(\" \")\n",
    "\n",
    "base_url = \"hello/s=\"\n",
    "base_url += keyword_splited[0]\n",
    "\n",
    "if len(keyword_splited) <= 1: base_url \n",
    "else:\n",
    "    for character in keyword_splited[1:]:\n",
    "        base_url += f\"+{character}\"\n",
    "\n",
    "base_url"
   ]
  },
  {
   "cell_type": "code",
   "execution_count": null,
   "metadata": {},
   "outputs": [],
   "source": [
    "keyword = \"vitamin c cong dung\"\n",
    "keyword_splited = keyword.split(\" \")\n",
    "keyword_splited[1:]"
   ]
  },
  {
   "cell_type": "code",
   "execution_count": null,
   "metadata": {},
   "outputs": [],
   "source": [
    "import requests\n",
    "from bs4 import BeautifulSoup\n",
    "\n",
    "# URL of the webpage you want to scrape\n",
    "url = 'https://nhathuoclongchau.com.vn/tim-kiem?s=vitamin+c+cong+dung'\n",
    "\n",
    "# Send a GET request to the URL\n",
    "response = requests.get(url)\n",
    "\n",
    "# Parse the HTML content of the page\n",
    "soup = BeautifulSoup(response.text, 'html.parser')\n",
    "\n",
    "# Find the element(s) containing the data you want to extract\n",
    "# For example, let's say you want to extract all the <h1> tags\n",
    "headings = soup.find_all(\"h2\")\n",
    "\n",
    "# Print the text of each heading\n",
    "for heading in headings:\n",
    "    print(heading)"
   ]
  },
  {
   "cell_type": "code",
   "execution_count": null,
   "metadata": {},
   "outputs": [],
   "source": [
    "\"123\" in \"qweqwe123\""
   ]
  },
  {
   "cell_type": "code",
   "execution_count": null,
   "metadata": {},
   "outputs": [],
   "source": [
    "import requests\n",
    "\n",
    "url = \"https://suckhoedoisong.vn/timeline/search.htm\"\n",
    "\n",
    "querystring = {\"keywords\":\"vitamin c\",\"page\":\"2\"}\n",
    "\n",
    "payload = \"\"\n",
    "headers = {\"User-Agent\": \"insomnia/8.6.1\"}\n",
    "\n",
    "response = requests.request(\"GET\", url, data=payload, headers=headers, params=querystring)\n",
    "\n",
    "print(response.text)"
   ]
  },
  {
   "cell_type": "code",
   "execution_count": null,
   "metadata": {},
   "outputs": [],
   "source": [
    "x = 5\n",
    "\n",
    "for i in range(1,x+1):\n",
    "    print(i)"
   ]
  },
  {
   "cell_type": "code",
   "execution_count": null,
   "metadata": {},
   "outputs": [],
   "source": [
    "import math\n",
    "math.ceil(73 / 24)"
   ]
  },
  {
   "cell_type": "code",
   "execution_count": null,
   "metadata": {},
   "outputs": [],
   "source": [
    "x = ['\\n',\n",
    " 'Mẹ nên đưa trẻ đến bệnh viện để được kiểm tra, hướng dẫn bổ sung đúng cách và biết vitamin D cho trẻ sơ sinh loại nào tốt nhất.',\n",
    " '\\n',\n",
    " 'Khi nào nên cho bé uống vitamin D?',\n",
    " '\\n',\n",
    " 'Thực tế, bố mẹ có thể bổ sung vitamin D cho trẻ ở bất cứ thời điểm nào trong ngày mà không gây ảnh hưởng đến hiệu quả hấp thụ ',\n",
    " 'vitamin D của trẻ sơ sinh',\n",
    " '. Nhưng nếu bố mẹ bổ sung đồng thời vitamin D và canxi cho trẻ sơ sinh, bố mẹ nên thực hiện vào buổi sáng, trong lúc ăn hoặc ngay sau bữa ăn vì điều này sẽ giúp vitamin được hấp thụ một cách tối ưu nhất.',\n",
    " '\\n',\n",
    " 'Trẻ nên được duy trì việc bổ sung vitamin D theo nhu cầu hàng ngày ít nhất đến khi biết đi.',\n",
    " '\\n',\n",
    " 'Lưu ý, bố mẹ không nên quá phụ thuộc vào các loại thực phẩm chức năng bổ sung vitamin D cho trẻ sơ sinh. Thay vào đó, bố mẹ nên kết hợp nhiều cách bổ sung vitamin D nhằm tăng hiệu quả hấp thụ vitamin D cho trẻ như tắm nắng, sử dụng sữa công thức tăng cường vitamin D, mẹ cho con bú thực hiện chế độ dinh dưỡng giàu vitamin D. Ngoài ra, khi có ý định bổ sung vitamin D cho trẻ, bố mẹ cần đưa trẻ đến bệnh viện thăm khám để được kiểm tra, hướng dẫn bổ sung vitamin đúng cách với liều lượng phù hợp. Việc bổ sung vitamin D quá mức có thể khiến trẻ sơ sinh mắc các bệnh lý nguy hiểm như vôi hóa mạch máu, sỏi thận hay các vấn đề về tim mạch.',       \n",
    " '\\n',\n",
    " 'Để biết thêm thông tin về cách chăm sóc và những vấn đề sức khỏe khác của trẻ, bạn có thể liên hệ ',\n",
    " 'Trung tâm Sơ sinh'\n",
    " ]\n",
    "\n",
    "valid_x = [i for i in x if \"\\n\" not in i]\n",
    "\" \".join(valid_x)"
   ]
  },
  {
   "cell_type": "code",
   "execution_count": null,
   "metadata": {},
   "outputs": [],
   "source": [
    "x = ['123', \"123\"]\n",
    "y = \"12233\"\n",
    "\n"
   ]
  },
  {
   "cell_type": "code",
   "execution_count": null,
   "metadata": {},
   "outputs": [],
   "source": [
    "x.append(y)"
   ]
  },
  {
   "cell_type": "code",
   "execution_count": null,
   "metadata": {},
   "outputs": [],
   "source": [
    "list(y) if type(y)!= list else y"
   ]
  },
  {
   "cell_type": "code",
   "execution_count": null,
   "metadata": {},
   "outputs": [],
   "source": [
    "import json\n",
    "\n",
    "# JSON string containing a list of dictionaries with encoded text\n",
    "with open(\"storage/data.json\", \"r\") as file:\n",
    "    json_string = file.read()\n",
    "    decoded_data = json.loads(json_string)\n",
    "\n",
    "import pandas as pd\n",
    "\n",
    "pd.DataFrame(decoded_data).to_csv(\"storage/data.csv\")\n"
   ]
  },
  {
   "cell_type": "code",
   "execution_count": null,
   "metadata": {},
   "outputs": [],
   "source": [
    "from datetime import datetime\n",
    "\n",
    "datetime.now().strftime(\"%Y-%m-%d_%H:%M:%S\")"
   ]
  },
  {
   "cell_type": "code",
   "execution_count": 24,
   "metadata": {},
   "outputs": [
    {
     "data": {
      "text/html": [
       "<div>\n",
       "<style scoped>\n",
       "    .dataframe tbody tr th:only-of-type {\n",
       "        vertical-align: middle;\n",
       "    }\n",
       "\n",
       "    .dataframe tbody tr th {\n",
       "        vertical-align: top;\n",
       "    }\n",
       "\n",
       "    .dataframe thead th {\n",
       "        text-align: right;\n",
       "    }\n",
       "</style>\n",
       "<table border=\"1\" class=\"dataframe\">\n",
       "  <thead>\n",
       "    <tr style=\"text-align: right;\">\n",
       "      <th></th>\n",
       "      <th>url</th>\n",
       "      <th>title</th>\n",
       "      <th>article</th>\n",
       "      <th>website</th>\n",
       "    </tr>\n",
       "  </thead>\n",
       "  <tbody>\n",
       "    <tr>\n",
       "      <th>0</th>\n",
       "      <td>https://www.vinmec.com/vi//tin-tuc/thong-tin-s...</td>\n",
       "      <td>Vitamin C Công dụng liều dùng thích hợp</td>\n",
       "      <td>Bài viết được tư vấn chuyên môn bởi   Bác sĩ P...</td>\n",
       "      <td>vinmec</td>\n",
       "    </tr>\n",
       "    <tr>\n",
       "      <th>1</th>\n",
       "      <td>https://www.vinmec.com/vi//tin-tuc/thong-tin-s...</td>\n",
       "      <td>Công dụng liều dùng và tác dụng phụ của Vitam...</td>\n",
       "      <td>Thiếu vitamin C có thể dẫn đến một số bệnh đặc...</td>\n",
       "      <td>vinmec</td>\n",
       "    </tr>\n",
       "    <tr>\n",
       "      <th>2</th>\n",
       "      <td>https://www.vinmec.com/vi//thong-tin-duoc/su-d...</td>\n",
       "      <td>Acid ascorbic Vitamin C Công dụng chỉ định và...</td>\n",
       "      <td>Vitamin C hay acid ascorbic đóng vai trò tương...</td>\n",
       "      <td>vinmec</td>\n",
       "    </tr>\n",
       "    <tr>\n",
       "      <th>3</th>\n",
       "      <td>https://www.vinmec.com/vi/thong-tin-duoc/su-du...</td>\n",
       "      <td>Công dụng thuốc Cecon</td>\n",
       "      <td>Thuốc Cecon được dùng để điều trị và ngăn ngừa...</td>\n",
       "      <td>vinmec</td>\n",
       "    </tr>\n",
       "    <tr>\n",
       "      <th>4</th>\n",
       "      <td>https://www.vinmec.com/vi/thong-tin-duoc/su-du...</td>\n",
       "      <td>Công dụng của thuốc Calcium stada vitamin C PP</td>\n",
       "      <td>Thuốc Calcium stada vitamin C PP được chỉ định...</td>\n",
       "      <td>vinmec</td>\n",
       "    </tr>\n",
       "  </tbody>\n",
       "</table>\n",
       "</div>"
      ],
      "text/plain": [
       "                                                 url  \\\n",
       "0  https://www.vinmec.com/vi//tin-tuc/thong-tin-s...   \n",
       "1  https://www.vinmec.com/vi//tin-tuc/thong-tin-s...   \n",
       "2  https://www.vinmec.com/vi//thong-tin-duoc/su-d...   \n",
       "3  https://www.vinmec.com/vi/thong-tin-duoc/su-du...   \n",
       "4  https://www.vinmec.com/vi/thong-tin-duoc/su-du...   \n",
       "\n",
       "                                               title  \\\n",
       "0           Vitamin C Công dụng liều dùng thích hợp    \n",
       "1   Công dụng liều dùng và tác dụng phụ của Vitam...   \n",
       "2   Acid ascorbic Vitamin C Công dụng chỉ định và...   \n",
       "3                             Công dụng thuốc Cecon    \n",
       "4    Công dụng của thuốc Calcium stada vitamin C PP    \n",
       "\n",
       "                                             article website  \n",
       "0  Bài viết được tư vấn chuyên môn bởi   Bác sĩ P...  vinmec  \n",
       "1  Thiếu vitamin C có thể dẫn đến một số bệnh đặc...  vinmec  \n",
       "2  Vitamin C hay acid ascorbic đóng vai trò tương...  vinmec  \n",
       "3  Thuốc Cecon được dùng để điều trị và ngăn ngừa...  vinmec  \n",
       "4  Thuốc Calcium stada vitamin C PP được chỉ định...  vinmec  "
      ]
     },
     "execution_count": 24,
     "metadata": {},
     "output_type": "execute_result"
    }
   ],
   "source": [
    "import pandas as pd\n",
    "df = pd.DataFrame(pd.read_csv('storage/data.csv', index_col=0))\n",
    "single_df = df[df['website'] == \"vinmec\"].reset_index(drop=True)\n",
    "single_df"
   ]
  },
  {
   "cell_type": "code",
   "execution_count": 26,
   "metadata": {},
   "outputs": [],
   "source": [
    "available_articles = [single_df.iloc[i] for i, row in single_df.iterrows() if len(row['article']) < 4000]\n"
   ]
  },
  {
   "cell_type": "code",
   "execution_count": 33,
   "metadata": {},
   "outputs": [
    {
     "data": {
      "text/plain": [
       "url        https://www.vinmec.com/vi/thong-tin-duoc/su-du...\n",
       "title                                 Công dụng thuốc Cecon \n",
       "article    Thuốc Cecon được dùng để điều trị và ngăn ngừa...\n",
       "website                                               vinmec\n",
       "Name: 3, dtype: object"
      ]
     },
     "execution_count": 33,
     "metadata": {},
     "output_type": "execute_result"
    }
   ],
   "source": [
    "available_articles[0]"
   ]
  },
  {
   "cell_type": "code",
   "execution_count": 5,
   "metadata": {},
   "outputs": [],
   "source": [
    "import requests\n",
    "from IPython.display import HTML\n",
    "import json"
   ]
  },
  {
   "cell_type": "code",
   "execution_count": 17,
   "metadata": {},
   "outputs": [],
   "source": [
    "url = \"https://api.pexels.com/v1/curated\"\n",
    "\n",
    "querystring = {\"page\":\"2\",\"per_page\":\"40\"}\n",
    "\n",
    "payload = \"\"\n",
    "headers = {\n",
    "    \"cookie\": \"__cf_bm=A1FyJ9YIAIBzLdYxWVYztVrPA8llXZwQMlSNmv3b5sw-1712995379-1.0.1.1-NQFWmHYWkBepu324_ukGI_mdoeot49NTtyeraoX_R0uztwmqpMMoVXKxa_LZnbCexETeT16eUYufhnrdC4RGDg\",\n",
    "    \"User-Agent\": \"insomnia/8.6.1\",\n",
    "    \"Authorization\": \"qO04VdrFUmutxNeQFXoRtwyDqX4qK9Y8r6czDplYHZr083N6dwGh8riV\"\n",
    "}\n",
    "\n",
    "response = requests.request(\"GET\", url, data=payload, headers=headers, params=querystring)\n",
    "json_string = response.json()\n",
    "image_url = json_string['photos'][0]['src']['medium']"
   ]
  },
  {
   "cell_type": "code",
   "execution_count": 18,
   "metadata": {},
   "outputs": [
    {
     "data": {
      "text/html": [
       "<img src=\"https://images.pexels.com/photos/20852704/pexels-photo-20852704.jpeg?auto=compress&cs=tinysrgb&h=350\" alt= \"Image\" >"
      ],
      "text/plain": [
       "<IPython.core.display.HTML object>"
      ]
     },
     "execution_count": 18,
     "metadata": {},
     "output_type": "execute_result"
    }
   ],
   "source": [
    "html_content = f'<img src=\"{image_url}\" alt= \"Image\" >'\n",
    "HTML(html_content)"
   ]
  }
 ],
 "metadata": {
  "kernelspec": {
   "display_name": "Python 3",
   "language": "python",
   "name": "python3"
  },
  "language_info": {
   "codemirror_mode": {
    "name": "ipython",
    "version": 3
   },
   "file_extension": ".py",
   "mimetype": "text/x-python",
   "name": "python",
   "nbconvert_exporter": "python",
   "pygments_lexer": "ipython3",
   "version": "3.12.2"
  }
 },
 "nbformat": 4,
 "nbformat_minor": 2
}
